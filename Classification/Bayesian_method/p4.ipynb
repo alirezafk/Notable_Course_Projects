{
 "cells": [
  {
   "cell_type": "code",
   "execution_count": 227,
   "metadata": {},
   "outputs": [],
   "source": [
    "# Importing libararies\n",
    "import numpy as np\n",
    "import pandas as pd\n",
    "import matplotlib.pyplot as plt\n",
    "from math import sqrt, floor\n",
    "from sklearn.preprocessing import scale\n",
    "from sklearn import preprocessing\n",
    "\n",
    "#Reading files\n",
    "Train_Data = pd.read_csv('trainData.csv').values\n",
    "Train_Labels = pd.read_csv('trainLabels.csv').values\n",
    "Test_Data = pd.read_csv('testData.csv').values\n",
    "Test_Labels = pd.read_csv('testLabels.csv').values\n",
    "row, col = Train_Labels.shape\n",
    "\n",
    "m, n = Train_Labels.shape\n",
    "t, _ = Test_Labels.shape\n",
    "Train_Labels = Train_Labels.reshape((m))\n",
    "Test_Labels = Test_Labels.reshape((t))\n",
    "\n",
    "x_max = np.max(Train_Data)\n",
    "x_min = np.min(Train_Data)\n",
    "\n",
    "t_max = np.max(Test_Data)\n",
    "t_min = np.min(Test_Data)\n",
    "\n",
    "#train_scaled = scale(Train_Data.astype(np.float64))\n",
    "#test_scaled = scale(Test_Data.astype(np.float64))\n",
    "#train_normal = preprocessing.normalize(Train_Data)\n",
    "#test_normal = preprocessing.normalize(Test_Data)\n",
    "\n",
    "train_normal = (Train_Data - x_min)/(x_max - x_min)\n",
    "test_normal = (Train_Data - t_min)/(t_max - t_min)\n",
    "\n",
    "m, n = train_normal.shape\n",
    "t, _ = test_normal.shape\n",
    "\n",
    "train_normal = train_normal.reshape((m, n, 1))\n",
    "test_normal = test_normal.reshape((t, n, 1))"
   ]
  },
  {
   "cell_type": "code",
   "execution_count": 229,
   "metadata": {},
   "outputs": [
    {
     "data": {
      "text/plain": [
       "(59999, 784, 1)"
      ]
     },
     "execution_count": 229,
     "metadata": {},
     "output_type": "execute_result"
    }
   ],
   "source": [
    "train_normal.shape"
   ]
  },
  {
   "cell_type": "code",
   "execution_count": 33,
   "metadata": {},
   "outputs": [
    {
     "data": {
      "text/plain": [
       "array([6000, 6000, 6000, 6000, 6000, 6000, 6000, 6000, 6000, 5999],\n",
       "      dtype=int64)"
      ]
     },
     "execution_count": 33,
     "metadata": {},
     "output_type": "execute_result"
    }
   ],
   "source": [
    "Train_Labels\n",
    "L, counts = np.unique(Train_Labels, return_counts=True)\n",
    "n_labels = len(L)\n",
    "counts"
   ]
  },
  {
   "cell_type": "code",
   "execution_count": 230,
   "metadata": {},
   "outputs": [],
   "source": [
    "L, counts = np.unique(Train_Labels, return_counts=True)\n",
    "n_labels = len(L)\n",
    "\n",
    "cov = np.zeros((n_labels, n, n))\n",
    "means = np.zeros((n_labels, n, 1))\n",
    "\n",
    "for i in range(m):\n",
    "    for j in range(n_labels):\n",
    "        if Train_Labels[i] == L[j]:\n",
    "            means[j][:][:] += train_normal[i][:][:]\n",
    "            \n",
    "for i in range(n_labels):\n",
    "    means[i][:][:] = means[i][:][:]/counts[i]\n",
    "\n"
   ]
  },
  {
   "cell_type": "code",
   "execution_count": 231,
   "metadata": {},
   "outputs": [],
   "source": [
    "for i in range(m):\n",
    "    for j in range(n_labels):\n",
    "        if Train_Labels[i] == L[j]:\n",
    "            a = train_normal[i][:][:]\n",
    "            u = means[j][:][:]\n",
    "            v = a-u\n",
    "            o = np.multiply(v, np.transpose(v))\n",
    "            cov[j][:][:] += train_normal[i][:][:] + o\n"
   ]
  },
  {
   "cell_type": "code",
   "execution_count": null,
   "metadata": {},
   "outputs": [],
   "source": []
  },
  {
   "cell_type": "code",
   "execution_count": 232,
   "metadata": {},
   "outputs": [],
   "source": [
    "for i in range(n_labels):\n",
    "    cov[i][:][:] = cov[i][:][:]/(counts[i]-1)"
   ]
  },
  {
   "cell_type": "code",
   "execution_count": 250,
   "metadata": {},
   "outputs": [],
   "source": [
    "cov_n = np.zeros((n_labels, n, n))\n",
    "alpha = 0.5\n",
    "for i in range(n_labels):\n",
    "    sigma = (1/n)*np.trace(cov[i][:][:])\n",
    "    cov_n[i][:][:] = (1-alpha)*cov[i][:][:] + alpha*sigma*np.eye(n)"
   ]
  },
  {
   "cell_type": "code",
   "execution_count": 239,
   "metadata": {},
   "outputs": [
    {
     "data": {
      "text/plain": [
       "0.0"
      ]
     },
     "execution_count": 239,
     "metadata": {},
     "output_type": "execute_result"
    }
   ],
   "source": [
    "np.linalg.det(cov_normal[7][:][:])"
   ]
  },
  {
   "cell_type": "code",
   "execution_count": 240,
   "metadata": {},
   "outputs": [],
   "source": [
    "cov_inv = np.zeros((n_labels, n, n))\n",
    "det = np.zeros(n_labels)\n",
    "\n",
    "for i in range(n_labels):\n",
    "    cov_inv[i][:][:] = np.linalg.inv(cov_n[i][:][:])\n",
    "\n",
    "for i in range(n_labels):\n",
    "    det[i] = np.linalg.det(cov_n[i][:][:])"
   ]
  },
  {
   "cell_type": "code",
   "execution_count": 253,
   "metadata": {},
   "outputs": [
    {
     "data": {
      "text/plain": [
       "-694.7042282168284"
      ]
     },
     "execution_count": 253,
     "metadata": {},
     "output_type": "execute_result"
    }
   ],
   "source": [
    "np.trace(np.log(cov_n[8]))"
   ]
  },
  {
   "cell_type": "code",
   "execution_count": 166,
   "metadata": {},
   "outputs": [
    {
     "data": {
      "text/plain": [
       "0.0"
      ]
     },
     "execution_count": 166,
     "metadata": {},
     "output_type": "execute_result"
    }
   ],
   "source": [
    "np.linalg.det(cov[1][:][:])"
   ]
  },
  {
   "cell_type": "code",
   "execution_count": 264,
   "metadata": {},
   "outputs": [
    {
     "name": "stderr",
     "output_type": "stream",
     "text": [
      "C:\\Users\\Alireza\\Anaconda3\\lib\\site-packages\\ipykernel_launcher.py:5: RuntimeWarning: divide by zero encountered in log\n",
      "  \"\"\"\n"
     ]
    }
   ],
   "source": [
    "pred = np.zeros(t)\n",
    "for i in range(t):\n",
    "    temp = np.zeros(n_labels)\n",
    "    for j in range(n_labels):\n",
    "        a = -0.5*np.trace(np.log(cov_n[j][:][:]))\n",
    "        x = test_normal[i][:][:]\n",
    "        M = means[j][:][:]\n",
    "        covar = cov_inv[j][:][:]\n",
    "        U = np.subtract(x,M)\n",
    "        UT = np.transpose(U)\n",
    "        A = np.transpose(U) @ covar\n",
    "        B = -0.5*(A @ U)\n",
    "        temp[j] = B + a\n",
    "    pred[i] = np.argmax(temp)"
   ]
  },
  {
   "cell_type": "code",
   "execution_count": 266,
   "metadata": {},
   "outputs": [
    {
     "name": "stdout",
     "output_type": "stream",
     "text": [
      "Accuracy = 60.348839147319126\n"
     ]
    }
   ],
   "source": [
    "acc = 0\n",
    "for i in range(t):\n",
    "    if pred[i] == Train_Labels[i]:\n",
    "        acc += 1\n",
    "acc = (acc/t)*100\n",
    "print(f\"Accuracy = {acc}\")"
   ]
  },
  {
   "cell_type": "code",
   "execution_count": 194,
   "metadata": {},
   "outputs": [
    {
     "data": {
      "text/plain": [
       "array([0., 3., 0., ..., 3., 0., 2.])"
      ]
     },
     "execution_count": 194,
     "metadata": {},
     "output_type": "execute_result"
    }
   ],
   "source": [
    "pred"
   ]
  },
  {
   "cell_type": "code",
   "execution_count": 181,
   "metadata": {},
   "outputs": [
    {
     "data": {
      "text/plain": [
       "array([[5, 6]])"
      ]
     },
     "execution_count": 181,
     "metadata": {},
     "output_type": "execute_result"
    }
   ],
   "source": [
    "a = np.array([[1,2]])\n",
    "b = np.array([[3,4],\n",
    "              [1,1]])\n",
    "a@b"
   ]
  }
 ],
 "metadata": {
  "kernelspec": {
   "display_name": "Python 3",
   "language": "python",
   "name": "python3"
  },
  "language_info": {
   "codemirror_mode": {
    "name": "ipython",
    "version": 3
   },
   "file_extension": ".py",
   "mimetype": "text/x-python",
   "name": "python",
   "nbconvert_exporter": "python",
   "pygments_lexer": "ipython3",
   "version": "3.7.3"
  }
 },
 "nbformat": 4,
 "nbformat_minor": 2
}
