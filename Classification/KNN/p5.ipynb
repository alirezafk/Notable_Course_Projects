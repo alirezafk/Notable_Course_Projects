{
 "cells": [
  {
   "cell_type": "code",
   "execution_count": 1,
   "metadata": {},
   "outputs": [],
   "source": [
    "# Importing libararies\n",
    "import numpy as np\n",
    "import pandas as pd\n",
    "import matplotlib.pyplot as plt"
   ]
  },
  {
   "cell_type": "code",
   "execution_count": 2,
   "metadata": {},
   "outputs": [],
   "source": [
    "#Reading files\n",
    "Train_Data = pd.read_csv('Train_Data.csv').values\n",
    "Train_Labels = pd.read_csv('Train_Labels.csv').values\n",
    "Test_Data = pd.read_csv('Test_Data.csv').values\n",
    "Test_Labels = pd.read_csv('Test_Labels.csv').values\n",
    "\n",
    "#Preparing Data\n",
    "N, col = Train_Data.shape\n",
    "Train_Data = Train_Data.reshape((N, col, 1))\n",
    "M, _ = Test_Data.shape\n",
    "Test_Data = Test_Data.reshape((M, col, 1))"
   ]
  },
  {
   "cell_type": "code",
   "execution_count": 11,
   "metadata": {},
   "outputs": [],
   "source": [
    "def KNN(k, dis, Train_Data, Train_Labels, Test_Data, Test_Labels):\n",
    "    N, col, _ = Train_Data.shape\n",
    "    M, col, _ = Test_Data.shape\n",
    "    pred = np.zeros((M, 1))\n",
    "    vec = np.zeros(N)\n",
    "    \n",
    "    for i in range(M):\n",
    "        A = Test_Data[i][:][:]\n",
    "        for j in range(N):\n",
    "            B = Train_Data[j][:][:]\n",
    "            C = A - B\n",
    "            if dis == 1:\n",
    "                vec[j] = np.dot(np.transpose(C), C)\n",
    "            elif dis == 2:\n",
    "                vec[j] = np.max(np.absolute(C))\n",
    "            else:\n",
    "                vec[j] = np.sum(np.absolute(C))\n",
    "        idx = np.argpartition(vec, k)\n",
    "        idx = idx[0:k]\n",
    "        for t in range(k):\n",
    "            idx[t] = Train_Labels[idx[t]]\n",
    "        counts = np.bincount(idx)\n",
    "        pred[i][:] = np.argmax(counts)\n",
    "    \n",
    "    D = pred - Test_Labels\n",
    "    n = np.count_nonzero(D == 0)\n",
    "    ACC = (n/M)*100\n",
    "    return ACC, pred"
   ]
  },
  {
   "cell_type": "code",
   "execution_count": 7,
   "metadata": {},
   "outputs": [
    {
     "name": "stdout",
     "output_type": "stream",
     "text": [
      "Accuracy for k=2 and using norm 2 = 81.16604744212633\n",
      "Accuracy for k=5 and using norm 2 = 82.53786796227493\n",
      "Accuracy for k=10 and using norm 2 = 82.652186338954\n",
      "Accuracy for k=15 and using norm 2 = 82.22349242640755\n"
     ]
    }
   ],
   "source": [
    "dis = 1\n",
    "k = [2, 5, 10, 15]\n",
    "for i in range(len(k)):\n",
    "    ACC, pred = KNN(k[i], dis, Train_Data, Train_Labels, Test_Data, Test_Labels)\n",
    "    print(f\"Accuracy for k={k[i]} and using norm 2 = {ACC}\")"
   ]
  },
  {
   "cell_type": "code",
   "execution_count": 12,
   "metadata": {},
   "outputs": [
    {
     "name": "stdout",
     "output_type": "stream",
     "text": [
      "Accuracy for k=10 and using d1 defenition = 80.70877393541012\n"
     ]
    }
   ],
   "source": [
    "dis = 2\n",
    "k = 10\n",
    "ACC, pred = KNN(k, dis, Train_Data, Train_Labels, Test_Data, Test_Labels)\n",
    "print(f\"Accuracy for k={k} and using d1 defenition = {ACC}\")"
   ]
  },
  {
   "cell_type": "code",
   "execution_count": 10,
   "metadata": {},
   "outputs": [
    {
     "name": "stdout",
     "output_type": "stream",
     "text": [
      "Accuracy for k=10 and using d2 defenition = 82.19491283223779\n"
     ]
    }
   ],
   "source": [
    "dis = 3\n",
    "k = 10\n",
    "ACC, pred = KNN(k, dis, Train_Data, Train_Labels, Test_Data, Test_Labels)\n",
    "print(f\"Accuracy for k={k} and using d2 defenition = {ACC}\")"
   ]
  }
 ],
 "metadata": {
  "kernelspec": {
   "display_name": "Python 3",
   "language": "python",
   "name": "python3"
  },
  "language_info": {
   "codemirror_mode": {
    "name": "ipython",
    "version": 3
   },
   "file_extension": ".py",
   "mimetype": "text/x-python",
   "name": "python",
   "nbconvert_exporter": "python",
   "pygments_lexer": "ipython3",
   "version": "3.7.3"
  }
 },
 "nbformat": 4,
 "nbformat_minor": 2
}
