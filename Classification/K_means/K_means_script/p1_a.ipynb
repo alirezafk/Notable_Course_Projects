{
 "cells": [
  {
   "cell_type": "code",
   "execution_count": 11,
   "metadata": {},
   "outputs": [
    {
     "name": "stdout",
     "output_type": "stream",
     "text": [
      "Train_Data shape: (144, 13)\n",
      "Train_Labels shape: (144, 1)\n",
      "Test_Data shape: (32, 13)\n",
      "Test_Labels shape: (32, 1)\n"
     ]
    }
   ],
   "source": [
    "# Importing libararies\n",
    "import numpy as np\n",
    "import pandas as pd\n",
    "import matplotlib.pyplot as plt\n",
    "from math import sqrt, floor\n",
    "import seaborn as sn\n",
    "\n",
    "#Reading files\n",
    "Train_Data = pd.read_csv('Train_Data.csv').values\n",
    "ds = np.copy(Train_Data)\n",
    "Train_Labels = pd.read_csv('Train_Labels.csv').values\n",
    "Test_Data = pd.read_csv('Test_Data.csv').values\n",
    "Test_Labels = pd.read_csv('Test_Labels.csv').values\n",
    "\n",
    "print(f\"Train_Data shape: {Train_Data.shape}\")\n",
    "print(f\"Train_Labels shape: {Train_Labels.shape}\")\n",
    "print(f\"Test_Data shape: {Test_Data.shape}\")\n",
    "print(f\"Test_Labels shape: {Test_Labels.shape}\")\n",
    "m, n = Train_Data.shape\n",
    "t, _ = Test_Data.shape\n",
    "\n",
    "#Number of clusters\n",
    "k = 10\n",
    "#Train_Data = Train_Data.reshape((n,m,1))\n",
    "#Test_Data = Test_Data.reshape((t,m,1))\n"
   ]
  },
  {
   "cell_type": "code",
   "execution_count": 2,
   "metadata": {},
   "outputs": [],
   "source": [
    "def naive_sharding(ds, k, n, m): \n",
    "    centroids = np.mat(np.zeros((k,n)))\n",
    "    # Sum all elements of each row, add as col to original dataset, sort\n",
    "    composite = np.mat(np.sum(ds, axis=1))\n",
    "    ds = np.append(composite.T, ds, axis=1)\n",
    "    ds.sort(axis=0)\n",
    "\n",
    "    # Step value for dataset sharding\n",
    "    step = floor(m/k)\n",
    "\n",
    "    # Vectorize mean ufunc for numpy array\n",
    "    vfunc = np.vectorize(_get_mean)\n",
    "\n",
    "    # Divide matrix rows equally by k-1 (so that there are k matrix shards)\n",
    "    # Sum columns of shards, get means; these columnar means are centroids\n",
    "    for j in range(k):\n",
    "        if j == k-1:\n",
    "            centroids[j:] = vfunc(np.sum(ds[j*step:,1:], axis=0), step)\n",
    "        else:\n",
    "            centroids[j:] = vfunc(np.sum(ds[j*step:(j+1)*step,1:], axis=0), step)\n",
    "\n",
    "    return centroids\n",
    "\n",
    "def _get_mean(sums, step):\n",
    "    return sums/step"
   ]
  },
  {
   "cell_type": "code",
   "execution_count": 44,
   "metadata": {},
   "outputs": [],
   "source": [
    "centroids = naive_sharding(ds, k, n, m)"
   ]
  },
  {
   "cell_type": "code",
   "execution_count": 3,
   "metadata": {},
   "outputs": [],
   "source": [
    "def Cost(centroids, C, data):\n",
    "    cost = 0\n",
    "    m, n = data.shape\n",
    "    for i in range(m):\n",
    "        cost = np.sum(np.power(np.subtract(centroids[C[i,0],:], data[i,:]), 2))\n",
    "    return cost\n",
    "\n",
    "def CL(Train_Data, centroids):\n",
    "    m, n = Train_Data.shape\n",
    "    Distances = np.array([]).reshape(m,0)\n",
    "    for i in range(k):\n",
    "        tempDist = np.sum(np.power(np.subtract(Train_Data, centroids[i,:]), 2), axis = 1)\n",
    "        Distances = np.c_[Distances, tempDist]\n",
    "    C = np.argmin(Distances, axis = 1)\n",
    "    C.astype(int)\n",
    "    return C"
   ]
  },
  {
   "cell_type": "code",
   "execution_count": 56,
   "metadata": {},
   "outputs": [
    {
     "name": "stdout",
     "output_type": "stream",
     "text": [
      "(144, 1)\n"
     ]
    }
   ],
   "source": [
    "Distances = np.array([]).reshape(m,0)\n",
    "for i in range(k):\n",
    "    tempDist = np.sum(np.power(np.subtract(Train_Data, centroids[i,:]), 2), axis = 1)\n",
    "    Distances = np.c_[Distances, tempDist]\n",
    "C = np.argmin(Distances, axis = 1)\n",
    "C.astype(int)\n",
    "print(C.shape)"
   ]
  },
  {
   "cell_type": "code",
   "execution_count": 4,
   "metadata": {},
   "outputs": [],
   "source": [
    "N = 10\n",
    "K = np.arange(1,12)\n",
    "cost_arr = np.zeros((len(K),N+1))\n",
    "k_err = np.zeros(len(K))\n",
    "\n",
    "for t in range(len(K)):\n",
    "    k = K[t]\n",
    "    ds = np.copy(Train_Data)\n",
    "    centroids = naive_sharding(ds, k, n, m)\n",
    "    C = CL(Train_Data, centroids)\n",
    "    cost_arr[t][0] = Cost(centroids, C, Train_Data)\n",
    "    for itera in range(N):\n",
    "        clusters = [[] for i in range(k)]\n",
    "        nums = np.zeros(k)\n",
    "        for i in range(m):\n",
    "            clusters[C[i,0]].append(i)\n",
    "            nums[C[i,0]] += 1\n",
    "        for i in range(k):\n",
    "            s = np.zeros((1, n))\n",
    "            for j in range(len(clusters[i])):\n",
    "                s += Train_Data[clusters[i][j],:]\n",
    "            centroids[i,:] = s/nums[i]\n",
    "        C = CL(Train_Data, centroids)\n",
    "        cost_arr[t][itera + 1] = Cost(centroids, C, Train_Data)\n",
    "    k_err[t] = cost_arr[t][N-1]"
   ]
  },
  {
   "cell_type": "code",
   "execution_count": 5,
   "metadata": {},
   "outputs": [
    {
     "name": "stdout",
     "output_type": "stream",
     "text": [
      "[307147.15229714  30185.44030576   7946.85144457   3782.4300385\n",
      "   2618.16178302   3598.744609     3598.744609     3598.744609\n",
      "   3598.744609      864.78608163    864.78608163]\n"
     ]
    },
    {
     "data": {
      "text/plain": [
       "Text(0, 0.5, 'cost')"
      ]
     },
     "execution_count": 5,
     "metadata": {},
     "output_type": "execute_result"
    },
    {
     "data": {
      "image/png": "[encoded data removed]",
      "text/plain": [
       "<Figure size 432x288 with 1 Axes>"
      ]
     },
     "metadata": {
      "needs_background": "light"
     },
     "output_type": "display_data"
    }
   ],
   "source": [
    "#elbow\n",
    "print(k_err)\n",
    "plt.plot(K, k_err,'--ro')\n",
    "plt.xlabel('k')\n",
    "plt.ylabel('cost')"
   ]
  },
  {
   "cell_type": "code",
   "execution_count": 37,
   "metadata": {},
   "outputs": [
    {
     "data": {
      "image/png": "[encoded data removed]",
      "text/plain": [
       "<Figure size 720x504 with 2 Axes>"
      ]
     },
     "metadata": {},
     "output_type": "display_data"
    }
   ],
   "source": [
    "#Optimal k using elbow\n",
    "k = 3\n",
    "ds = np.copy(Train_Data)\n",
    "centroids = naive_sharding(ds, k, n, m)\n",
    "C = CL(Train_Data, centroids)\n",
    "for itera in range(N):\n",
    "    clusters = [[] for i in range(k)]\n",
    "    nums = np.zeros(k)\n",
    "    for i in range(m):\n",
    "        clusters[C[i,0]].append(i)\n",
    "        nums[C[i,0]] += 1\n",
    "    for i in range(k):\n",
    "        s = np.zeros((1, n))\n",
    "        for j in range(len(clusters[i])):\n",
    "            s += Train_Data[clusters[i][j],:]\n",
    "        centroids[i,:] = s/nums[i]\n",
    "    C = CL(Train_Data, centroids)\n",
    "\n",
    "U = clusters.copy()\n",
    "for i in range(k):\n",
    "    for j in range(len(clusters[i])):\n",
    "        U[i][j] = Train_Labels[clusters[i][j]][0]\n",
    "\n",
    "classes = [0 for x in range(k)]\n",
    "for i in range(k):\n",
    "    L, counts = np.unique(U[i], return_counts=True)\n",
    "    counts = np.asarray(counts)\n",
    "    L = np.asarray(L)\n",
    "    M = np.argmax(counts)\n",
    "    classes[i] = L[M]\n",
    "\n",
    "confusion = [[0 for i in range(k)] for j in range(k)]\n",
    "for i in range(k):\n",
    "    for j in range(len(clusters[i])):\n",
    "        temp = int(U[i][j])-1\n",
    "        confusion[temp][classes[i]-1] += 1\n",
    "df_cm = pd.DataFrame(confusion, range(1,k+1), range(1,k+1))\n",
    "plt.figure(figsize = (10,7))\n",
    "sn.set(font_scale=1.4)#for label size\n",
    "sn.heatmap(df_cm, annot=True,annot_kws={\"size\": 16})# font size\n",
    "plt.xlabel('Predicted')\n",
    "plt.ylabel('Actual')\n",
    "plt.title('Confusion Matrix')\n",
    "plt.show()\n",
    "    "
   ]
  },
  {
   "cell_type": "code",
   "execution_count": 132,
   "metadata": {},
   "outputs": [
    {
     "name": "stdout",
     "output_type": "stream",
     "text": [
      "[[ 0.  5.]\n",
      " [68. 69.]\n",
      " [35. 58.]]\n",
      "[[1]\n",
      " [1]\n",
      " [1]]\n"
     ]
    }
   ],
   "source": [
    "Output={}\n",
    "k = 2\n",
    "b = np.mat([[1,2,5],\n",
    "            [1,1,3]])\n",
    "a = np.mat([[1,2,5],\n",
    "            [5,8,1],\n",
    "            [4,1,10]])\n",
    "A = np.array([]).reshape(3,0)\n",
    "for i in range(k):\n",
    "    tempDist = np.sum(np.power(np.subtract(a, b[i,:]), 2), axis = 1)\n",
    "    A = np.c_[A, tempDist]\n",
    "C = np.argmin(A, axis = 1) + 1\n",
    "print(A)\n",
    "print(C)"
   ]
  },
  {
   "cell_type": "code",
   "execution_count": 116,
   "metadata": {},
   "outputs": [
    {
     "name": "stdout",
     "output_type": "stream",
     "text": [
      "[[1 2 5]\n",
      " [5 8 1]\n",
      " [4 1 2]]\n",
      "(1, 3)\n"
     ]
    },
    {
     "data": {
      "text/plain": [
       "(3, 1)"
      ]
     },
     "execution_count": 116,
     "metadata": {},
     "output_type": "execute_result"
    }
   ],
   "source": [
    "a = np.mat([[1,2,5],\n",
    "            [5,8,1],\n",
    "            [4,1,2]])\n",
    "print(a)\n",
    "b = np.mat([[1,2,5],\n",
    "            [1,1,3]])\n",
    "print(b.shape)\n",
    "t = np.sum(np.power(np.subtract(a,b), 2), axis = 1)\n",
    "t.shape"
   ]
  },
  {
   "cell_type": "code",
   "execution_count": 29,
   "metadata": {},
   "outputs": [
    {
     "data": {
      "text/plain": [
       "[[1, 0, 0], [0, 0, 0], [0, 0, 0]]"
      ]
     },
     "execution_count": 29,
     "metadata": {},
     "output_type": "execute_result"
    }
   ],
   "source": [
    "\n",
    "a = [[0 for i in range(k)] for j in range(k)]\n",
    "a[0][0]=1\n",
    "a"
   ]
  }
 ],
 "metadata": {
  "kernelspec": {
   "display_name": "Python 3",
   "language": "python",
   "name": "python3"
  },
  "language_info": {
   "codemirror_mode": {
    "name": "ipython",
    "version": 3
   },
   "file_extension": ".py",
   "mimetype": "text/x-python",
   "name": "python",
   "nbconvert_exporter": "python",
   "pygments_lexer": "ipython3",
   "version": "3.7.3"
  }
 },
 "nbformat": 4,
 "nbformat_minor": 2
}
