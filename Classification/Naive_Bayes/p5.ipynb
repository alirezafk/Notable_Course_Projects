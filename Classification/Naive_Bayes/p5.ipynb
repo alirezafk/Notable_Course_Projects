{
 "cells": [
  {
   "cell_type": "code",
   "execution_count": 31,
   "metadata": {},
   "outputs": [],
   "source": [
    "import numpy as np\n",
    "import pandas as pd\n",
    "import matplotlib.pyplot as plt\n",
    "import csv\n",
    "import random as rnd\n",
    "import math\n",
    "import seaborn as sn"
   ]
  },
  {
   "cell_type": "code",
   "execution_count": 3,
   "metadata": {},
   "outputs": [],
   "source": [
    "def assign(data):\n",
    "    L = len(data[0])\n",
    "    at = np.zeros((L, len(data)))\n",
    "    for i in range(L):\n",
    "        for j in range(len(data)):\n",
    "            at[i][j] = ord(data[j][i])\n",
    "    temp_int_num = []\n",
    "    temp_int = []\n",
    "    for i in range(len(at)):\n",
    "        temp_int_num.append(len(list(set(at[i]))))\n",
    "        temp_int.append(list(set(at[i])))\n",
    "    for i in range(len(at)):\n",
    "        for j in range(len(at[0])):\n",
    "            cnt = 0\n",
    "            for k in range(temp_int_num[i]):\n",
    "                if at[i][j] == temp_int[i][k]:\n",
    "                    if at[i][j] != ord('?'):\n",
    "                        at[i][j] = cnt\n",
    "                    else:\n",
    "                        at[i][j] = -1\n",
    "                cnt = cnt+1\n",
    "    new_data = np.zeros((len(data), L))\n",
    "    for i in range(len(data)):\n",
    "        for j in range(L):\n",
    "            new_data[i][j] = at[j][i]\n",
    "    labels = at[0]\n",
    "    return new_data, labels"
   ]
  },
  {
   "cell_type": "code",
   "execution_count": 35,
   "metadata": {},
   "outputs": [],
   "source": [
    "def seperatebyclass(dataset,labels):\n",
    "    seperate={}\n",
    "    for i in range(len(dataset)):\n",
    "        vector = dataset[i]\n",
    "        classes = labels[i]\n",
    "        if(classes not in seperate):\n",
    "            seperate[classes] =[]\n",
    "        seperate[classes].append(vector)\n",
    "    return seperate\n",
    "\n",
    "#calculating mean\n",
    "def mean(numbers):\n",
    "    return sum(numbers)/float(len(numbers))\n",
    "\n",
    "#standard deviation\n",
    "def stdev(numbers):\n",
    "    avg = mean(numbers)\n",
    "    variance = sum([pow(x - avg,2) for x in numbers])/float(len(numbers)+1)\n",
    "    return math.sqrt(variance)\n",
    "\n",
    "#summarize the dataset\n",
    "def summar(dataset):\n",
    "    summaries = [(mean(attribute), stdev(attribute)) for attribute in zip(*dataset)]\n",
    "    return summaries\n",
    "\n",
    "# summarize the attribute by class\n",
    "def summar_att(dataset,labels):\n",
    "    seperated = seperatebyclass(dataset,labels)\n",
    "    summaries = {}\n",
    "    for classval,instances in seperated.items():\n",
    "        summaries[classval] = summar(instances)\n",
    "    return summaries\n",
    "\n",
    "#calculate the Gaussian prob. \n",
    "def cal_prob(X,mean,std):\n",
    "    exponential = math.exp(-(math.pow(X-mean, 2)/(2 * math.pow(std,2) + 0.001)))\n",
    "    return (1/(math.sqrt(2*math.pi)*std+0.001)) * exponential\n",
    "\n",
    "#calculate class prob.\n",
    "def cal_cls_prob(summaries,inputvector):\n",
    "    prob={}\n",
    "    for classval, classsum in summaries.items():\n",
    "        prob[classval]=1\n",
    "        for i in range(len(classsum)):\n",
    "            mean, std = classsum[i]\n",
    "            x = inputvector[i]\n",
    "            prob[classval] *= cal_prob(x,mean,std)\n",
    "    return prob\n",
    "\n",
    "#prediction functions\n",
    "def prediction(summaries,inputvector):\n",
    "    prob = cal_cls_prob(summaries,inputvector)\n",
    "    bestlabel,bestprob = None,-1\n",
    "    for classval,probability in prob.items():\n",
    "        if bestlabel is None or probability > bestprob:\n",
    "            bestprob = probability\n",
    "            bestlabel = classval\n",
    "    return bestlabel\n",
    "\n",
    "def pred(summaries, testset):\n",
    "    predictions=[]\n",
    "    for i in range(len(testset)):\n",
    "        result = prediction(summaries,testset[i])\n",
    "        predictions.append(result)\n",
    "    return predictions\n",
    "\n",
    "#calculating accuracy\n",
    "def accuracy(testlabel,predictions):\n",
    "    correct = 0\n",
    "    for x in range(len(testlabel)):\n",
    "        if (testlabel[x] == predictions[x]):\n",
    "            correct = correct+1\n",
    "    return(correct/float(len(testlabel)))"
   ]
  },
  {
   "cell_type": "code",
   "execution_count": 21,
   "metadata": {},
   "outputs": [
    {
     "name": "stdout",
     "output_type": "stream",
     "text": [
      "Accuracy = 100.0 %\n"
     ]
    }
   ],
   "source": [
    "#reading datasets    \n",
    "Mushroom_Train = pd.read_csv('Mushroom_Train.csv').values\n",
    "Mushroom_Test = pd.read_csv('Mushroom_Test.csv').values\n",
    "Mushroom_Train , Train_Labels = assign(Mushroom_Train)\n",
    "Mushroom_Test , Test_Labels = assign(Mushroom_Test)\n",
    "\n",
    "summaries = summar_att(Mushroom_Train, Train_Labels)\n",
    "predicts = pred(summaries, Mushroom_Test)\n",
    "acc = accuracy(Test_Labels, predicts)\n",
    "print(f\"Accuracy = {acc * 100} %\")"
   ]
  },
  {
   "cell_type": "code",
   "execution_count": 28,
   "metadata": {},
   "outputs": [
    {
     "data": {
      "text/plain": [
       "array([3641, 3959], dtype=int64)"
      ]
     },
     "execution_count": 28,
     "metadata": {},
     "output_type": "execute_result"
    }
   ],
   "source": [
    "L, counts = np.unique(Train_Labels, return_counts=True)\n",
    "counts"
   ]
  },
  {
   "cell_type": "code",
   "execution_count": 36,
   "metadata": {},
   "outputs": [
    {
     "data": {
      "image/png": "[encoded data removed]",
      "text/plain": [
       "<Figure size 720x504 with 2 Axes>"
      ]
     },
     "metadata": {},
     "output_type": "display_data"
    }
   ],
   "source": [
    "#Confusion matrix\n",
    "L, counts = np.unique(Test_Labels, return_counts=True)\n",
    "s = len(L)\n",
    "confusion = [[0 for i in range(s)] for j in range(s)]\n",
    "\n",
    "for i in range(len(Test_Labels)):\n",
    "    for j in range(s):\n",
    "        confusion[int(Test_Labels[i])][int(predicts[i])] += 1\n",
    "    \n",
    "\n",
    "df_cm = pd.DataFrame(confusion, range(s), range(s))\n",
    "plt.figure(figsize = (10,7))\n",
    "sn.set(font_scale = 1.6)#for label size\n",
    "sn.heatmap(df_cm, annot=True,annot_kws={\"size\": 16})# font size\n",
    "plt.xlabel('Predicted')\n",
    "plt.ylabel('Actual')\n",
    "plt.title('Confusion Matrix for Mushroom dataset')\n",
    "plt.show()"
   ]
  }
 ],
 "metadata": {
  "kernelspec": {
   "display_name": "Python 3",
   "language": "python",
   "name": "python3"
  },
  "language_info": {
   "codemirror_mode": {
    "name": "ipython",
    "version": 3
   },
   "file_extension": ".py",
   "mimetype": "text/x-python",
   "name": "python",
   "nbconvert_exporter": "python",
   "pygments_lexer": "ipython3",
   "version": "3.7.3"
  }
 },
 "nbformat": 4,
 "nbformat_minor": 2
}
