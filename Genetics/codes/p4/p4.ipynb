{
 "cells": [
  {
   "cell_type": "code",
   "execution_count": 1,
   "metadata": {},
   "outputs": [],
   "source": [
    "# Importing libararies\n",
    "import numpy as np\n",
    "import pandas as pd\n",
    "import matplotlib.pyplot as plt"
   ]
  },
  {
   "cell_type": "code",
   "execution_count": 2,
   "metadata": {},
   "outputs": [],
   "source": [
    "#Reading files\n",
    "Train_Data = pd.read_csv('Train_Data.csv').values\n",
    "Train_Labels = pd.read_csv('Train_Labels.csv').values\n",
    "Test_Data = pd.read_csv('Test_Data.csv').values\n",
    "Test_Labels = pd.read_csv('Test_Labels.csv').values\n",
    "row, col = Train_Data.shape\n",
    "\n",
    "#Number of folds\n",
    "num_fold = 5\n",
    "\n",
    "#Number of data in each fold\n",
    "n = 2000\n",
    "\n",
    "#Appending data to Train_Data to make it multiple of num_data\n",
    "Train_Data = np.append(Train_Data, Train_Data[0][:].reshape((1, col)), axis = 0)\n",
    "Train_Labels = np.append(Train_Labels, Train_Labels[0].reshape((1, 1)), axis = 0)\n",
    "\n",
    "#Reshaping train data\n",
    "Train_Data = Train_Data.reshape((num_fold, n, col, 1))\n",
    "Train_Labels = Train_Labels.reshape((num_fold, n, 1))"
   ]
  },
  {
   "cell_type": "code",
   "execution_count": 3,
   "metadata": {},
   "outputs": [],
   "source": [
    "#Creating Labels for each class\n",
    "num_of_classes = 10\n",
    "Labels = np.zeros((num_of_classes, num_fold, n, 1))\n",
    "for i in range(num_of_classes):\n",
    "    for j in range(num_fold):\n",
    "        for k in range(n):\n",
    "            if Train_Labels[j][k][0] == i:\n",
    "                Labels[i][j][k][0] = 1\n",
    "            else:\n",
    "                Labels[i][j][k][0] = -1"
   ]
  },
  {
   "cell_type": "code",
   "execution_count": 8,
   "metadata": {},
   "outputs": [],
   "source": [
    "def SGD(Train_Data, Labels, landa, alpha):\n",
    "    num_of_classes, num_fold, _, _ = Labels.shape\n",
    "    _, n, col, _ = Train_Data.shape\n",
    "    W = np.random.normal(0, np.math.sqrt(0.1), (num_of_classes, num_fold, col, 1))\n",
    "    B = np.random.normal(0, np.math.sqrt(0.1), (num_of_classes, num_fold))\n",
    "    epochs = 50\n",
    "    G = np.zeros((num_of_classes, num_fold, epochs + 1))\n",
    "    ACC = np.zeros((num_of_classes, num_fold, epochs + 1))\n",
    "    epoch_num = np.ones((num_of_classes, num_fold))\n",
    "    N = (num_fold - 1)*n\n",
    "    index = np.arange(n)\n",
    "    \n",
    "    #Calculating loss and acc for before training\n",
    "    for i in range(num_of_classes):\n",
    "        for fold in range(num_fold):\n",
    "            w = W[i][fold][:][:]\n",
    "            b = B[i][fold]\n",
    "            g = landa*np.dot(np.transpose(w), w)\n",
    "            acc = 0\n",
    "            for j in range(num_fold):\n",
    "                if j == fold:\n",
    "                    pass\n",
    "                else:\n",
    "                    for t in range(n):\n",
    "                        x = Train_Data[j][t][:][:]\n",
    "                        L = Labels[i][j][t][:]\n",
    "                        wx = np.dot(np.transpose(w), x)\n",
    "                        A = L*(wx - b)\n",
    "                        g += (1/N)*max(0, 1-A)\n",
    "                        if A > 0:\n",
    "                            acc += 1\n",
    "            ACC[i][fold][0] = (acc/N)*100\n",
    "            G[i][fold][0] = g\n",
    "                \n",
    "                        \n",
    "    #Training and calculating loss and acc on train data with k fold cross validation    \n",
    "    for num_class in range(num_of_classes):\n",
    "        for fold in range(num_fold):\n",
    "            w = W[num_class][fold][:][:]\n",
    "            b = B[num_class][fold]\n",
    "            epoch = 0\n",
    "            accuracy = 0\n",
    "            while(epoch < epochs and accuracy < 98):\n",
    "                acc = 0\n",
    "                for i in range(num_fold):\n",
    "                    if i == fold:\n",
    "                        pass\n",
    "                    else:\n",
    "                        for j in range(n):\n",
    "                            #loss = 0\n",
    "                            x = Train_Data[i][j][:][:]\n",
    "                            L = Labels[num_class][i][j][:]\n",
    "                            wx = np.dot(np.transpose(w), x)\n",
    "                            A = L*(wx - b)\n",
    "                            if A < 1:\n",
    "                                w += alpha*((-2*landa)*w + L*x)\n",
    "                                b +=  -L\n",
    "                            else:\n",
    "                                w += alpha*(-2*landa*w)\n",
    "                g = landa*(np.dot(np.transpose(w), w))\n",
    "                for s in range(num_fold):\n",
    "                    if s == fold:\n",
    "                        pass\n",
    "                    else:\n",
    "                        for d in range(n):\n",
    "                            pred = np.dot(np.transpose(w), Train_Data[s][d][:][:])-b\n",
    "                            l = Labels[num_class][s][d]\n",
    "                            g += (1/N)*max(0, 1-l*(pred))\n",
    "                            if pred*l > 0:\n",
    "                                acc += 1\n",
    "                G[num_class][fold][epoch + 1] = g\n",
    "                ACC[num_class][fold][epoch + 1] = (acc/N)*100\n",
    "                accuracy = ACC[num_class][fold][epoch + 1]\n",
    "                epoch += 1\n",
    "            epoch_num[num_class][fold] += epoch\n",
    "            W[num_class][fold][:][:] = w\n",
    "            B[num_class][fold] = b\n",
    "    return G, ACC, epoch_num, W, B"
   ]
  },
  {
   "cell_type": "code",
   "execution_count": 9,
   "metadata": {},
   "outputs": [],
   "source": [
    "landa = 1e-2\n",
    "alpha = 1e-4\n",
    "G, ACC, epoch_num, W1, B = SGD(Train_Data, Labels, landa, alpha)"
   ]
  },
  {
   "cell_type": "code",
   "execution_count": 10,
   "metadata": {},
   "outputs": [
    {
     "data": {
      "image/png": "[encoded data removed]",
      "text/plain": [
       "<Figure size 432x288 with 1 Axes>"
      ]
     },
     "metadata": {
      "needs_background": "light"
     },
     "output_type": "display_data"
    },
    {
     "data": {
      "image/png": "[encoded data removed]",
      "text/plain": [
       "<Figure size 432x288 with 1 Axes>"
      ]
     },
     "metadata": {
      "needs_background": "light"
     },
     "output_type": "display_data"
    },
    {
     "name": "stdout",
     "output_type": "stream",
     "text": [
      "accuracy for \n"
     ]
    }
   ],
   "source": [
    "cl = 0\n",
    "fol = 0\n",
    "\n",
    "# plot of loss function\n",
    "plt.plot(G[cl][fol][0:int(epoch_num[cl][fol])])\n",
    "plt.title(f\"Loss function for fold={fol}, class={cl}, lambda={landa}\")\n",
    "plt.xlabel(\"epochs\")\n",
    "plt.ylabel(\"Loss value\")\n",
    "plt.show()\n",
    "\n",
    "# plot of accuracy\n",
    "plt.plot(ACC[cl][fol][0:int(epoch_num[cl][fol])])\n",
    "plt.title(f\"Loss function for fold={fol}, class={cl}, lambda={landa}\")\n",
    "plt.xlabel(\"epochs\")\n",
    "plt.ylabel(\"accuracy\")\n",
    "plt.show()\n",
    "\n",
    "print(\"accuracy for \")"
   ]
  },
  {
   "cell_type": "code",
   "execution_count": 11,
   "metadata": {},
   "outputs": [],
   "source": [
    "def Testing_Folds(W, B, Train_Data, Train_Labels, landa):\n",
    "    num_of_classes, num_fold, col, _ = W.shape\n",
    "    _, n, _, _ = Train_Data.shape\n",
    "    test_acc = np.zeros((num_fold, 1))\n",
    "    A = np.zeros((num_of_classes, 1))\n",
    "    for fold in range(num_fold):\n",
    "        for i in range(n):\n",
    "            for num_class in range(num_of_classes):\n",
    "                w = W[num_class][fold][:][:]\n",
    "                ww = np.math.sqrt(np.dot(np.transpose(w), w))\n",
    "                A[num_class][:] = (np.dot(np.transpose(w), Train_Data[fold][i][:][:])-B[num_class][fold])/ww\n",
    "            pred = np.argmax(A)\n",
    "            if Train_Labels[fold][i][:] == pred:\n",
    "                test_acc[fold][:] += 1\n",
    "    test_acc *= (100/n)\n",
    "    return test_acc\n",
    "                "
   ]
  },
  {
   "cell_type": "code",
   "execution_count": 12,
   "metadata": {},
   "outputs": [
    {
     "name": "stdout",
     "output_type": "stream",
     "text": [
      "accuracy for lambda=0.01 by performing W to folds are:\n",
      "[[77.35]\n",
      " [80.6 ]\n",
      " [78.95]\n",
      " [77.3 ]\n",
      " [77.2 ]]\n",
      "Mean of accuracy for lambda=0.01 by performing W to folds are:\n",
      "78.28\n"
     ]
    }
   ],
   "source": [
    "test_acc = Testing_Folds(W1, B, Train_Data, Train_Labels, landa)\n",
    "print(f\"accuracy for lambda={landa} by performing W to folds are:\\n{test_acc}\")\n",
    "print(f\"Mean of accuracy for lambda={landa} by performing W to folds are:\\n{np.mean(test_acc)}\")"
   ]
  },
  {
   "cell_type": "code",
   "execution_count": 13,
   "metadata": {},
   "outputs": [],
   "source": [
    "Test_Data = pd.read_csv('Test_Data.csv').values\n",
    "Test_Labels = pd.read_csv('Test_Labels.csv').values\n",
    "num_test, col = Test_Data.shape\n",
    "Test_Data = Test_Data.reshape((num_test, col, 1))\n",
    "Train = pd.read_csv('Train_Data.csv').values\n",
    "Train_L = pd.read_csv('Train_Labels.csv').values\n",
    "M, col = Train.shape\n",
    "Train = Train.reshape((M, col, 1))\n",
    "TL = np.zeros((num_of_classes, M, 1))\n",
    "for i in range(num_of_classes):\n",
    "    for j in range(M):\n",
    "        if Train_L[j][0] == i:\n",
    "            TL[i][j] = 1\n",
    "        else:\n",
    "            TL[i][j] = -1"
   ]
  },
  {
   "cell_type": "code",
   "execution_count": 14,
   "metadata": {},
   "outputs": [],
   "source": [
    "Test_L = np.zeros((num_of_classes, num_test, 1))\n",
    "for i in range(num_of_classes):\n",
    "    for j in range(num_test):\n",
    "        if Test_Labels[j][0] == i:\n",
    "            Test_L[i][j] = 1\n",
    "        else:\n",
    "            Test_L[i][j] = -1"
   ]
  },
  {
   "cell_type": "code",
   "execution_count": 21,
   "metadata": {},
   "outputs": [],
   "source": [
    "def Testing_Test_Data(Train, TL, Test_Data, Test_L, Test_Labels, alpha, landa, dec):\n",
    "    num_test, col, _ = Test_Data.shape\n",
    "    num_of_classes, M, _ = TL.shape\n",
    "    W = np.random.normal(0, np.math.sqrt(0.1), (num_of_classes, col, 1))\n",
    "    B = np.random.normal(0, np.math.sqrt(0.1), (num_of_classes, 1))\n",
    "    epochs = 40\n",
    "    G_Train = np.zeros((num_of_classes, epochs + 1))\n",
    "    ACC_Train = np.zeros((num_of_classes, epochs + 1))\n",
    "    num_epoch = np.zeros(num_of_classes)\n",
    "    run = True\n",
    "    shuff = np.arange(M)\n",
    "    L_shuff = np.zeros((M, 1))\n",
    "    X_shuff = np.zeros((M, col, 1))\n",
    "    desired_acc = 92\n",
    "    \n",
    "    for num_class in range(num_of_classes):\n",
    "        w = W[num_class][:][:]\n",
    "        b = B[num_class][:]\n",
    "        epoch = 0\n",
    "        if dec:\n",
    "            alpha = 0.9*alpha\n",
    "        while(True):\n",
    "            g = landa*np.dot(np.transpose(w), w)\n",
    "            acc = 0\n",
    "            for t in range(M):\n",
    "                x = Train[t][:][:]\n",
    "                wx = np.dot(np.transpose(w), x)\n",
    "                L = TL[num_class][t][:]\n",
    "                A = L*(wx - b)\n",
    "                g += (1/M)*(max(0, 1 - A))\n",
    "                if A > 0:\n",
    "                    acc += 1\n",
    "            ACC_Train[num_class][epoch] = (acc/M)*100\n",
    "            accuracy = ACC_Train[num_class][epoch]\n",
    "            G_Train[num_class][epoch] = g\n",
    "            epoch += 1\n",
    "            run = (epoch < (epochs+1)) and (accuracy < desired_acc)\n",
    "            if run:\n",
    "                np.random.shuffle(shuff)\n",
    "                X_shuff = Train[shuff][:][:]\n",
    "                L_shuff = TL[num_class][shuff][:]\n",
    "                for i in range(M):\n",
    "                    x = X_shuff[i][:][:]\n",
    "                    L = L_shuff[i][:]\n",
    "                    wx = np.dot(np.transpose(w), x)\n",
    "                    A = L*(wx - b)\n",
    "                    if A < 1:\n",
    "                        w += alpha*((-2*landa)*w + L*x)\n",
    "                        b = b - L\n",
    "                    else:\n",
    "                        w += alpha*((-2*landa)*w)\n",
    "            else:\n",
    "                break\n",
    "        W[num_class][:][:] = w\n",
    "        B[num_class][:] = b\n",
    "        num_epoch[num_class] = epoch + 1\n",
    "    \n",
    "    vec = np.zeros((num_of_classes, 1))\n",
    "    pred = np.zeros((num_test, 1))\n",
    "    #Testing test data\n",
    "    acc = 0\n",
    "    for i in range(num_test):\n",
    "        x = Test_Data[i][:][:]\n",
    "        for num_class in range(num_of_classes):\n",
    "            w = W[num_class][:][:]\n",
    "            b = B[num_class][:]\n",
    "            wx = np.dot(np.transpose(w), x)\n",
    "            ww = np.math.sqrt(np.dot(np.transpose(w), w))\n",
    "            vec[num_class][:] = (wx - b)/ww\n",
    "        pred[i][:] = np.argmax(vec)\n",
    "        if int(pred[i][:]) == int(Test_Labels[i][:]):\n",
    "            acc += 1\n",
    "    ACC_Test = (acc/num_test)*100\n",
    "    return W, B, num_epoch, G_Train, ACC_Train, ACC_Test, pred, vec"
   ]
  },
  {
   "cell_type": "code",
   "execution_count": 22,
   "metadata": {},
   "outputs": [],
   "source": [
    "dec = False\n",
    "W, B, num_epoch, G_Train, ACC_Train, ACC_Test, pred, vec = Testing_Test_Data(Train, TL, Test_Data, Test_L, Test_Labels, alpha, landa, dec)"
   ]
  },
  {
   "cell_type": "code",
   "execution_count": 23,
   "metadata": {},
   "outputs": [
    {
     "name": "stdout",
     "output_type": "stream",
     "text": [
      "accuracy without decreasing alpha = 77.76507573592455\n"
     ]
    },
    {
     "data": {
      "image/png": "[encoded data removed]",
      "text/plain": [
       "<Figure size 432x288 with 1 Axes>"
      ]
     },
     "metadata": {
      "needs_background": "light"
     },
     "output_type": "display_data"
    }
   ],
   "source": [
    "cl = 0\n",
    "plt.plot(ACC_Train[cl-1][0:int(num_epoch[cl-1]-1)])\n",
    "print(f\"accuracy without decreasing alpha = {ACC_Test}\")"
   ]
  },
  {
   "cell_type": "code",
   "execution_count": 27,
   "metadata": {},
   "outputs": [
    {
     "name": "stdout",
     "output_type": "stream",
     "text": [
      "accuracy with decreasing alpha = 76.33609602743641\n"
     ]
    },
    {
     "data": {
      "image/png": "[encoded data removed]",
      "text/plain": [
       "<Figure size 432x288 with 1 Axes>"
      ]
     },
     "metadata": {
      "needs_background": "light"
     },
     "output_type": "display_data"
    }
   ],
   "source": [
    "dec = 0.95\n",
    "W, B, num_epoch, G_Train, ACC_Train, ACC_Test, pred, vec = Testing_Test_Data(Train, TL, Test_Data, Test_L, Test_Labels, alpha, landa, dec)\n",
    "cl = 0\n",
    "plt.plot(ACC_Train[cl-1][0:int(num_epoch[cl-1]-1)])\n",
    "print(f\"accuracy with decreasing alpha = {ACC_Test}\")"
   ]
  }
 ],
 "metadata": {
  "kernelspec": {
   "display_name": "Python 3",
   "language": "python",
   "name": "python3"
  },
  "language_info": {
   "codemirror_mode": {
    "name": "ipython",
    "version": 3
   },
   "file_extension": ".py",
   "mimetype": "text/x-python",
   "name": "python",
   "nbconvert_exporter": "python",
   "pygments_lexer": "ipython3",
   "version": "3.7.3"
  }
 },
 "nbformat": 4,
 "nbformat_minor": 2
}
