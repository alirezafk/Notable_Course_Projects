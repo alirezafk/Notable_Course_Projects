{
 "cells": [
  {
   "cell_type": "code",
   "execution_count": 1,
   "metadata": {},
   "outputs": [],
   "source": [
    "# Importing libararies\n",
    "import numpy as np\n",
    "import pandas as pd\n",
    "import matplotlib.pyplot as plt"
   ]
  },
  {
   "cell_type": "code",
   "execution_count": 2,
   "metadata": {},
   "outputs": [],
   "source": [
    "#Reading files\n",
    "num_of_classes = 10\n",
    "Test_Data = pd.read_csv('Test_Data.csv').values\n",
    "Test_Labels = pd.read_csv('Test_Labels.csv').values\n",
    "num_test, col = Test_Data.shape\n",
    "Test_Data = Test_Data.reshape((num_test, col, 1))\n",
    "Train = pd.read_csv('Train_Data.csv').values\n",
    "Train_L = pd.read_csv('Train_Labels.csv').values\n",
    "M, col = Train.shape\n",
    "Train = Train.reshape((M, col, 1))\n",
    "TL = np.zeros((num_of_classes, M, 1))\n",
    "for i in range(num_of_classes):\n",
    "    for j in range(M):\n",
    "        if Train_L[j][0] == i:\n",
    "            TL[i][j] = 1\n",
    "        else:\n",
    "            TL[i][j] = -1\n",
    "            \n",
    "Test_L = np.zeros((num_of_classes, num_test, 1))\n",
    "for i in range(num_of_classes):\n",
    "    for j in range(num_test):\n",
    "        if Test_Labels[j][0] == i:\n",
    "            Test_L[i][j] = 1\n",
    "        else:\n",
    "            Test_L[i][j] = -1"
   ]
  },
  {
   "cell_type": "code",
   "execution_count": 4,
   "metadata": {},
   "outputs": [],
   "source": [
    "def steepest_descent(Train, TL, Test_Data, Test_L, Test_Labels, alpha, landa, dec):\n",
    "    num_test, col, _ = Test_Data.shape\n",
    "    num_of_classes, M, _ = TL.shape\n",
    "    W = np.random.normal(0, np.math.sqrt(0.1), (num_of_classes, col, 1))\n",
    "    B = np.random.normal(0, np.math.sqrt(0.1), (num_of_classes, 1))\n",
    "    epochs = 70\n",
    "    G_Train = np.zeros((num_of_classes, epochs + 1))\n",
    "    ACC_Train = np.zeros((num_of_classes, epochs + 1))\n",
    "    num_epoch = np.zeros(num_of_classes)\n",
    "    run = True\n",
    "    shuff = np.arange(M)\n",
    "    L_shuff = np.zeros((M, 1))\n",
    "    X_shuff = np.zeros((M, col, 1))\n",
    "    desired_acc = 98\n",
    "    \n",
    "    for num_class in range(num_of_classes):\n",
    "        w = W[num_class][:][:]\n",
    "        b = B[num_class][:]\n",
    "        epoch = 0\n",
    "        if dec:\n",
    "            alpha = dec*alpha\n",
    "        while(True):\n",
    "            g = landa*np.dot(np.transpose(w), w)\n",
    "            acc = 0\n",
    "            for t in range(M):\n",
    "                x = Train[t][:][:]\n",
    "                wx = np.dot(np.transpose(w), x)\n",
    "                L = TL[num_class][t][:]\n",
    "                A = L*(wx - b)\n",
    "                g += (1/M)*(max(0, 1 - A))\n",
    "                if A > 0:\n",
    "                    acc += 1\n",
    "            ACC_Train[num_class][epoch] = (acc/M)*100\n",
    "            accuracy = ACC_Train[num_class][epoch]\n",
    "            G_Train[num_class][epoch] = g\n",
    "            epoch += 1\n",
    "            run = (epoch < (epochs+1)) and (accuracy < desired_acc)\n",
    "            if run:\n",
    "                np.random.shuffle(shuff)\n",
    "                X_shuff = Train[shuff][:][:]\n",
    "                L_shuff = TL[num_class][shuff][:]\n",
    "                w += alpha*((-2*landa)*w)\n",
    "                for i in range(M):\n",
    "                    x = X_shuff[i][:][:]\n",
    "                    L = L_shuff[i][:]\n",
    "                    wx = np.dot(np.transpose(w), x)\n",
    "                    A = L*(wx - b)\n",
    "                    if A < 1:\n",
    "                        w += alpha*((1/M)*L*x)\n",
    "                        b = b - (1/M)*L\n",
    "            else:\n",
    "                break\n",
    "        W[num_class][:][:] = w\n",
    "        B[num_class][:] = b\n",
    "        num_epoch[num_class] = epoch + 1\n",
    "    \n",
    "    vec = np.zeros((num_of_classes, 1))\n",
    "    pred = np.zeros((num_test, 1))\n",
    "    #Testing test data\n",
    "    acc = 0\n",
    "    for i in range(num_test):\n",
    "        x = Test_Data[i][:][:]\n",
    "        for num_class in range(num_of_classes):\n",
    "            w = W[num_class][:][:]\n",
    "            b = B[num_class][:]\n",
    "            wx = np.dot(np.transpose(w), x)\n",
    "            ww = np.math.sqrt(np.dot(np.transpose(w), w))\n",
    "            vec[num_class][:] = (wx - b)/ww\n",
    "        pred[i][:] = np.argmax(vec)\n",
    "        if int(pred[i][:]) == int(Test_Labels[i][:]):\n",
    "            acc += 1\n",
    "    ACC_Test = (acc/num_test)*100\n",
    "    return W, B, num_epoch, G_Train, ACC_Train, ACC_Test, pred, vec\n",
    "    "
   ]
  },
  {
   "cell_type": "code",
   "execution_count": 10,
   "metadata": {},
   "outputs": [],
   "source": [
    "dec = False\n",
    "landa = 1e-2\n",
    "alpha = 1e-2\n",
    "W, B, num_epoch, G_Train, ACC_Train, ACC_Test, pred, vec = steepest_descent(Train, TL, Test_Data, Test_L, Test_Labels, alpha, landa, dec)\n"
   ]
  },
  {
   "cell_type": "code",
   "execution_count": 11,
   "metadata": {},
   "outputs": [
    {
     "name": "stdout",
     "output_type": "stream",
     "text": [
      "Accuracy using steepest descent optimization = 76.45041440411546\n"
     ]
    }
   ],
   "source": [
    "print(f\"Accuracy using steepest descent optimization = {ACC_Test}\")"
   ]
  }
 ],
 "metadata": {
  "kernelspec": {
   "display_name": "Python 3",
   "language": "python",
   "name": "python3"
  },
  "language_info": {
   "codemirror_mode": {
    "name": "ipython",
    "version": 3
   },
   "file_extension": ".py",
   "mimetype": "text/x-python",
   "name": "python",
   "nbconvert_exporter": "python",
   "pygments_lexer": "ipython3",
   "version": "3.7.3"
  }
 },
 "nbformat": 4,
 "nbformat_minor": 2
}
