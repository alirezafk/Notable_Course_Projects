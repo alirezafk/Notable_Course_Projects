{
 "cells": [
  {
   "cell_type": "code",
   "execution_count": 1,
   "metadata": {},
   "outputs": [],
   "source": [
    "import numpy as np\n",
    "import matplotlib.pyplot as plt\n",
    "from matplotlib.colors import ListedColormap\n",
    "maze = np.array([[1,0,2,2,2,2,2,2,2,2,2,2,2,2,0],\n",
    "                [0,0,0,0,0,0,0,0,0,0,0,0,0,0,0],\n",
    "                [0,0,2,2,2,2,2,2,2,2,2,2,2,2,0],\n",
    "                [0,0,2,2,2,2,2,2,2,2,2,2,2,2,0],\n",
    "                [0,0,2,2,2,2,2,2,2,2,2,2,2,2,0],\n",
    "                [0,0,2,2,2,2,2,2,2,2,2,2,2,2,0],\n",
    "                [0,0,2,2,2,2,2,2,2,2,2,2,2,2,0],\n",
    "                [0,0,2,2,2,2,2,2,2,2,2,2,2,2,3],\n",
    "                [0,0,2,2,2,2,2,2,2,2,2,2,2,2,0],\n",
    "                [0,0,2,2,2,2,2,2,2,2,2,2,2,2,0],\n",
    "                [0,0,2,2,2,2,2,2,2,2,2,2,2,2,0],\n",
    "                [0,0,2,2,2,2,2,2,2,2,2,2,2,2,0],\n",
    "                [0,0,0,0,0,0,0,0,0,0,0,0,0,0,0],\n",
    "                [0,0,0,0,0,0,0,0,0,0,0,0,0,0,0],\n",
    "                [0,0,0,0,0,0,0,0,0,0,0,0,0,0,0]])\n",
    "n, _ = maze.shape"
   ]
  },
  {
   "cell_type": "code",
   "execution_count": 2,
   "metadata": {},
   "outputs": [
    {
     "data": {
      "text/plain": [
       "<matplotlib.image.AxesImage at 0x1b3174a5be0>"
      ]
     },
     "execution_count": 2,
     "metadata": {},
     "output_type": "execute_result"
    },
    {
     "data": {
      "image/png": "[encoded data removed]",
      "text/plain": [
       "<Figure size 288x288 with 1 Axes>"
      ]
     },
     "metadata": {
      "needs_background": "light"
     },
     "output_type": "display_data"
    }
   ],
   "source": [
    "cmap = ListedColormap(['w', 'g', 'r', 'b'])\n",
    "plt.matshow(maze, cmap = cmap)"
   ]
  },
  {
   "cell_type": "code",
   "execution_count": 74,
   "metadata": {},
   "outputs": [],
   "source": [
    "class Maze:\n",
    "    def __init__(self, maze, L = -20, R = 1000, G = -2, C = -2, alpha = 0.2, \n",
    "                 gamma = 0.9, beta = 1, beta_inc = 0.01, p = 0.014):\n",
    "        self.counter = 10\n",
    "        self.num = 4\n",
    "        self.alpha = alpha\n",
    "        self.gamma = gamma\n",
    "        self.beta = beta\n",
    "        self.beta_inc = beta_inc\n",
    "        self.p = p\n",
    "        self.C = C\n",
    "        self.L = L\n",
    "        self.G = G\n",
    "        self.R = R\n",
    "        self.maze = maze\n",
    "        n, _ = maze.shape\n",
    "        self.n = n\n",
    "        self.Q = np.zeros((n, n, self.num), dtype = np.float32)\n",
    "        self.Q_action = np.zeros(self.num)\n",
    "        self.Q_action_n = np.zeros(self.num)\n",
    "        self.coor = (0, 0)\n",
    "        self.goal = (7, 14)\n",
    "        self.reward_sum = 0\n",
    "        \n",
    "        \n",
    "    def Reward(self, i, j):\n",
    "        cell = self.maze[i][j]\n",
    "        if cell == 0:\n",
    "            return self.C\n",
    "        elif cell == 1:\n",
    "            return self.G\n",
    "        elif cell == 2:\n",
    "            return self.L\n",
    "        elif cell == 3:\n",
    "            return self.R\n",
    "    \n",
    "    def softmax(self, s, action, possible):\n",
    "        i, j = s\n",
    "        tmp = np.zeros(len(possible))\n",
    "        for k in range(len(possible)):\n",
    "            tmp[k] = np.exp(self.beta*self.Q[i][j][possible[k]])\n",
    "        den = np.sum(tmp)\n",
    "        num = np.exp(self.beta*self.Q[i][j][action])\n",
    "        return num / den\n",
    "    \n",
    "    def next_action(self, possible):\n",
    "        temp = np.zeros(len(possible))\n",
    "        i, j = self.coor\n",
    "        cnt = 0\n",
    "        for act in possible:\n",
    "            #temp[cnt] = self.softmax(self.coor, act, possible)\n",
    "            temp[cnt] = self.Q[i][j][act]\n",
    "            cnt += 1\n",
    "        index = np.argmax(temp)\n",
    "        return possible[index], index\n",
    "    \n",
    "    def is_edge(self, i, j):\n",
    "        if i < 0 or j < 0 or i > self.n-1 or j > self.n-1:\n",
    "            return True\n",
    "        else:\n",
    "            return False\n",
    "        \n",
    "    def update(self, s, s1, a, r):\n",
    "        i1, j1 = s1\n",
    "        i, j = s\n",
    "        u = np.max(self.Q[i1][j1][:])\n",
    "        self.Q[i][j][a] += self.alpha*(r + self.gamma * u - self.Q[i][j][a])\n",
    "        \n",
    "    def possible_actions(self, i, j):\n",
    "        if (i>0) and (i<self.n - 1) and (j>0) and (j<self.n - 1):\n",
    "            return [0,1,2,3]\n",
    "        elif (i == 0):\n",
    "            if (j == 0):\n",
    "                return [0,3]\n",
    "            elif (j == self.n - 1):\n",
    "                return [2,3]\n",
    "            else:\n",
    "                return [0,2,3]\n",
    "        elif (i == self.n - 1):\n",
    "            if (j == 0):\n",
    "                return [0,1]\n",
    "            elif (j == self.n - 1):\n",
    "                return [1,2]\n",
    "            else:\n",
    "                return [0,1,2]\n",
    "        elif (j == 0):\n",
    "            return [0,1,3]\n",
    "        elif (j == self.n - 1):\n",
    "            return [1,2,3]\n",
    "\n",
    "    def next_state(self, p):\n",
    "        s_old = self.coor\n",
    "        i, j = self.coor\n",
    "        possible = self.possible_actions(i, j)\n",
    "        random = np.random.uniform(0,1,1)[0]\n",
    "        #print(f\"possible={possible}\")\n",
    "        #print(f\"coor={self.coor}\")\n",
    "        action, index = self.next_action(np.asarray(possible))\n",
    "        if random < p:\n",
    "            arr = np.asarray(possible)\n",
    "            np.delete(arr, index)\n",
    "            action = np.random.choice(arr)\n",
    "            #print(f\"action of epsilon = {action}\")\n",
    "\n",
    "        #print(f\"action={action}\")\n",
    "        if action == 0:\n",
    "            j = j + 1\n",
    "        elif action == 1:\n",
    "            i = i - 1\n",
    "        elif action == 2:\n",
    "            j = j - 1\n",
    "        elif action == 3:\n",
    "            i = i + 1\n",
    "        \n",
    "        self.coor = (i, j)\n",
    "            \n",
    "        self.Q_action_n[action] += 1\n",
    "        r = self.Reward(i, j)\n",
    "        self.reward_sum += r\n",
    "        self.Q_action[action] += (1/(self.Q_action_n[action]+1)) * (r - self.Q_action[action])\n",
    "        self.update(s_old, self.coor, action, r)\n",
    "        return action\n",
    "            \n",
    "            \n",
    "    def one_round(self, p):\n",
    "        m = 0\n",
    "        path = ''\n",
    "        while self.coor != self.goal:\n",
    "            a = self.next_state(p)\n",
    "            m += 1\n",
    "            if a == 0:\n",
    "                path += 'R'\n",
    "            elif a == 1:\n",
    "                path += 'U'\n",
    "            elif a == 2:\n",
    "                path += 'L'\n",
    "            elif a == 3:\n",
    "                path += 'D'\n",
    "        return path, m\n",
    "                \n",
    "    def train(self, N):\n",
    "        x = 100\n",
    "        reward_ave = np.zeros(N)\n",
    "        regret = np.zeros(N)\n",
    "        self.Q = np.zeros((n, n, self.num), dtype = np.float32)\n",
    "        self.Q_action = np.zeros(self.num)\n",
    "        self.Q_action_n = np.zeros(self.num)\n",
    "        self.coor = (0, 0)\n",
    "        self.reward_sum = 0\n",
    "        self.beta = 1\n",
    "\n",
    "        self.coor = (0, 0)\n",
    "        self.reward_sum = 0\n",
    "        self.Q_action = np.zeros(self.num)\n",
    "        self.Q_action_n = np.zeros(self.num)\n",
    "        self.beta += self.beta_inc*self.beta\n",
    "        for j in range(x):\n",
    "            self.coor = (0, 0)\n",
    "            self.reward_sum = 0\n",
    "            path, m = self.one_round(0.5)\n",
    "            regret[j] = 960 - self.reward_sum\n",
    "            reward_ave[j] = self.reward_sum / m\n",
    "            #print(m)\n",
    "        for j in range(N - x):\n",
    "            self.coor = (0, 0)\n",
    "            self.reward_sum = 0\n",
    "            path, m = self.one_round(self.p)\n",
    "            regret[x + j] = 960 - self.reward_sum\n",
    "            reward_ave[x + j] = self.reward_sum / m\n",
    "            #print(m)\n",
    "        #print(f\"{m}, \")\n",
    "            \n",
    "        self.coor = (0, 0)\n",
    "        self.reward_sum = 0\n",
    "        path, m = self.one_round(self.p)\n",
    "        regret[N-1] = 960 - self.reward_sum\n",
    "        reward_ave[N-1] = self.reward_sum / m\n",
    "        print(m)\n",
    "        print(f\"path = {path}\\n\")\n",
    "        return reward_ave, regret"
   ]
  },
  {
   "cell_type": "code",
   "execution_count": 100,
   "metadata": {},
   "outputs": [
    {
     "name": "stdout",
     "output_type": "stream",
     "text": [
      "21\n",
      "path = RDRRRRRRRRRRRRRDDDDDD\n",
      "\n"
     ]
    }
   ],
   "source": [
    "M = Maze(maze, p = 0.014)\n",
    "reward_ave, regret = M.train(3000)\n",
    "#print(M.Q)"
   ]
  },
  {
   "cell_type": "code",
   "execution_count": 101,
   "metadata": {},
   "outputs": [
    {
     "data": {
      "text/plain": [
       "960"
      ]
     },
     "execution_count": 101,
     "metadata": {},
     "output_type": "execute_result"
    }
   ],
   "source": [
    "M.reward_sum"
   ]
  },
  {
   "cell_type": "code",
   "execution_count": 102,
   "metadata": {},
   "outputs": [
    {
     "data": {
      "text/plain": [
       "array([45.71428571, 45.71428571, 45.71428571, 45.71428571, 45.71428571,\n",
       "       45.71428571, 45.71428571, 45.71428571, 45.71428571, 45.71428571,\n",
       "       45.71428571, 45.71428571, 45.71428571, 45.71428571, 45.71428571,\n",
       "       45.71428571, 45.71428571, 41.56521739, 45.71428571, 45.71428571,\n",
       "       45.71428571, 45.71428571, 45.71428571, 45.71428571, 45.71428571,\n",
       "       45.71428571, 45.71428571, 45.71428571, 45.71428571, 45.71428571,\n",
       "       45.71428571, 40.7826087 , 45.71428571, 45.71428571, 45.71428571,\n",
       "       45.71428571, 45.71428571, 45.71428571, 44.85714286, 44.85714286,\n",
       "       45.71428571, 45.71428571, 45.71428571, 45.71428571, 45.71428571,\n",
       "       45.71428571, 45.71428571, 45.71428571, 45.71428571, 45.71428571,\n",
       "       45.71428571, 45.71428571, 45.71428571, 45.71428571, 45.71428571,\n",
       "       45.71428571, 45.71428571, 45.71428571, 45.71428571, 45.71428571,\n",
       "       45.71428571, 45.71428571, 45.71428571, 45.71428571, 45.71428571,\n",
       "       45.71428571, 44.85714286, 45.71428571, 40.7826087 , 41.56521739,\n",
       "       45.71428571, 45.71428571, 45.71428571, 45.71428571, 45.71428571,\n",
       "       45.71428571, 45.71428571, 45.71428571, 45.71428571, 45.71428571,\n",
       "       45.71428571, 45.71428571, 45.71428571, 45.71428571, 40.7826087 ,\n",
       "       45.71428571, 45.71428571, 45.71428571, 41.56521739, 45.71428571,\n",
       "       40.        , 45.71428571, 45.71428571, 45.71428571, 40.7826087 ,\n",
       "       45.71428571, 45.71428571, 45.71428571, 45.71428571])"
      ]
     },
     "execution_count": 102,
     "metadata": {},
     "output_type": "execute_result"
    }
   ],
   "source": [
    "reward_ave[-100:-1]"
   ]
  },
  {
   "cell_type": "code",
   "execution_count": 103,
   "metadata": {},
   "outputs": [
    {
     "data": {
      "text/plain": [
       "[<matplotlib.lines.Line2D at 0x1b318ea7198>]"
      ]
     },
     "execution_count": 103,
     "metadata": {},
     "output_type": "execute_result"
    },
    {
     "data": {
      "image/png": "[encoded data removed]",
      "text/plain": [
       "<Figure size 432x288 with 1 Axes>"
      ]
     },
     "metadata": {
      "needs_background": "light"
     },
     "output_type": "display_data"
    }
   ],
   "source": [
    "plt.plot(regret[0:160], 'r')"
   ]
  },
  {
   "cell_type": "code",
   "execution_count": 104,
   "metadata": {},
   "outputs": [
    {
     "data": {
      "text/plain": [
       "array([2890., 4008., 1008., ...,    0.,    0.,    0.])"
      ]
     },
     "execution_count": 104,
     "metadata": {},
     "output_type": "execute_result"
    }
   ],
   "source": [
    "regret"
   ]
  }
 ],
 "metadata": {
  "kernelspec": {
   "display_name": "Python 3",
   "language": "python",
   "name": "python3"
  },
  "language_info": {
   "codemirror_mode": {
    "name": "ipython",
    "version": 3
   },
   "file_extension": ".py",
   "mimetype": "text/x-python",
   "name": "python",
   "nbconvert_exporter": "python",
   "pygments_lexer": "ipython3",
   "version": "3.7.3"
  }
 },
 "nbformat": 4,
 "nbformat_minor": 2
}
